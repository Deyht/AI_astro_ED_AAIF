{
  "nbformat": 4,
  "nbformat_minor": 0,
  "metadata": {
    "colab": {
      "private_outputs": true,
      "provenance": []
    },
    "kernelspec": {
      "name": "python3",
      "display_name": "Python 3"
    },
    "language_info": {
      "name": "python"
    },
    "accelerator": "GPU",
    "gpuClass": "standard"
  },
  "cells": [
    {
      "cell_type": "markdown",
      "source": [
        "# **CIANNA Stellar Spectra**\n",
        "\n",
        "[![Open In Colab](https://colab.research.google.com/assets/colab-badge.svg)](https://colab.research.google.com/github/Deyht/AI_astro_ED_AAIF/blob/main/codes/CNN/classification/spectra/Spectra_CIANNA.ipynb)\n",
        "\n",
        "---\n",
        "\n",
        "\n",
        "**Link to the CIANNA github repository**\n",
        "https://github.com/Deyht/CIANNA"
      ],
      "metadata": {
        "id": "JfKCrIlDu-E0"
      }
    },
    {
      "cell_type": "markdown",
      "source": [
        "### **CIANNA installation**"
      ],
      "metadata": {
        "id": "vIXMFIFmvYzG"
      }
    },
    {
      "cell_type": "markdown",
      "source": [],
      "metadata": {
        "id": "x6SQmlyuVoZS"
      }
    },
    {
      "cell_type": "markdown",
      "source": [
        "#### Query GPU allocation and properties\n",
        "\n",
        "If nvidia-smi fail, it might indicate that you launched the colab session whithout GPU reservation.  \n",
        "To change the type of reservation go to \"Runtime\"->\"Change runtime type\" and select \"GPU\" as your hardware accelerator."
      ],
      "metadata": {
        "id": "Ke8s2bCZvk1_"
      }
    },
    {
      "cell_type": "code",
      "source": [
        "%%shell\n",
        "\n",
        "nvidia-smi\n",
        "\n",
        "cd /content/\n",
        "\n",
        "git clone https://github.com/NVIDIA/cuda-samples/\n",
        "\n",
        "cd /content/cuda-samples/Samples/1_Utilities/deviceQuery/\n",
        "\n",
        "make SMS=\"50 60 70 80\"\n",
        "\n",
        "./deviceQuery | grep Capability | cut -c50- > ~/cuda_infos.txt\n",
        "./deviceQuery | grep \"CUDA Driver Version / Runtime Version\" | cut -c57- >> ~/cuda_infos.txt\n",
        "\n",
        "cd ~/"
      ],
      "metadata": {
        "id": "AHq06Uwk49Ak"
      },
      "execution_count": null,
      "outputs": []
    },
    {
      "cell_type": "markdown",
      "source": [
        "If you are granted a GPU that supports high FP16 compute scaling (e.g the Tesla T4), it is advised to change the mixed_precision parameter in the last cell to \"FP16C_FP32A\".  \n",
        "See the detail description on mixed precision support with CIANNA on the [Systeme Requirements](https://github.com/Deyht/CIANNA/wiki/1\\)-System-Requirements) wiki page."
      ],
      "metadata": {
        "id": "tZ-lmHiRBFwt"
      }
    },
    {
      "cell_type": "markdown",
      "source": [
        "#### Clone CIANNA git repository"
      ],
      "metadata": {
        "id": "A1SJ6-x8vqsC"
      }
    },
    {
      "cell_type": "code",
      "source": [
        "%%shell\n",
        "\n",
        "cd /content/\n",
        "\n",
        "git clone https://github.com/Deyht/CIANNA\n",
        "\n",
        "cd CIANNA"
      ],
      "metadata": {
        "id": "_uptvrov55YL"
      },
      "execution_count": null,
      "outputs": []
    },
    {
      "cell_type": "markdown",
      "source": [
        "#### Compiling CIANNA for the allocated GPU generation\n",
        "\n",
        "There is no guaranteed forward or backward compatibility between Nvidia GPU generation, and some capabilities are generation specific. For these reasons, CIANNA must be provided the platform GPU generation at compile time.\n",
        "The following cell will automatically update all the necessary files based on the detected GPU, and compile CIANNA."
      ],
      "metadata": {
        "id": "JYGPC3OUv0td"
      }
    },
    {
      "cell_type": "code",
      "source": [
        "%%shell\n",
        "\n",
        "cd /content/CIANNA\n",
        "\n",
        "mult=\"10\"\n",
        "cat ~/cuda_infos.txt\n",
        "comp_cap=\"$(sed '1!d' ~/cuda_infos.txt)\"\n",
        "cuda_vers=\"$(sed '2!d' ~/cuda_infos.txt)\"\n",
        "\n",
        "lim=\"11.1\"\n",
        "old_arg=$(awk '{if ($1 < $2) print \"-D CUDA_OLD\";}' <<<\"${cuda_vers} ${lim}\")\n",
        "\n",
        "sm_val=$(awk '{print $1*$2}' <<<\"${mult} ${comp_cap}\")\n",
        "\n",
        "gen_val=$(awk '{if ($1 >= 80) print \"-D GEN_AMPERE\"; else if($1 >= 70) print \"-D GEN_VOLTA\";}' <<<\"${sm_val}\")\n",
        "\n",
        "sed -i \"s/.*arch=sm.*/\\\\t\\tcuda_arg=\\\"\\$cuda_arg -D CUDA -D comp_CUDA -lcublas -lcudart -arch=sm_$sm_val $old_arg $gen_val\\\"/g\" compile.cp\n",
        "sed -i \"s/\\/cuda-[0-9][0-9].[0-9]/\\/cuda-$cuda_vers/g\" compile.cp\n",
        "sed -i \"s/\\/cuda-[0-9][0-9].[0-9]/\\/cuda-$cuda_vers/g\" src/python_module_setup.py\n",
        "\n",
        "./compile.cp CUDA PY_INTERF\n",
        "\n",
        "mv src/build/lib.linux-x86_64-* src/build/lib.linux-x86_64"
      ],
      "metadata": {
        "id": "HGJUvmWW7YE6"
      },
      "execution_count": null,
      "outputs": []
    },
    {
      "cell_type": "markdown",
      "source": [
        "#### Testing CIANNA installation\n",
        "\n",
        "**IMPORTANT NOTE**   \n",
        "CIANNA is mainly used in a script fashion and was not designed to run in notebooks. Every cell code that directly invokes CIANNA functions must be run as a script to avoid possible errors.  \n",
        "To do so, the cell must have the following structure.\n",
        "\n",
        "```\n",
        "%%shell\n",
        "\n",
        "cd /content/CIANNA\n",
        "\n",
        "python3 - <<EOF\n",
        "\n",
        "[... your python code ...]\n",
        "\n",
        "EOF\n",
        "```\n",
        "\n",
        "This syntax allows one to easily edit python code in the notebook while running the cell as a script. Note that all the notebook variables can not be accessed by the cell in this context.\n"
      ],
      "metadata": {
        "id": "vbnBhbIL8wv1"
      }
    },
    {
      "cell_type": "code",
      "source": [
        "%%shell\n",
        "\n",
        "cd /content/\n",
        "\n",
        "python3 - <<EOF\n",
        "\n",
        "\n",
        "import numpy as np\n",
        "import matplotlib.pyplot as plt\n",
        "import os\n",
        "\n",
        "import sys, glob\n",
        "sys.path.insert(0,glob.glob('/content/CIANNA/src/build/lib.*/')[-1])\n",
        "import CIANNA as cnn\n",
        "\n",
        "############################################################################\n",
        "##              Data reading (your mileage may vary)\n",
        "############################################################################\n",
        "\n",
        "def i_ar(int_list):\n",
        "\treturn np.array(int_list, dtype=\"int\")\n",
        "\n",
        "def f_ar(float_list):\n",
        "\treturn np.array(float_list, dtype=\"float32\")\n",
        "\n",
        "if(not os.path.isdir(\"stellar_spectra_data\")):\n",
        "\t\tos.system(\"wget https://share.obspm.fr/s/ANxKkxAZoKmXzRw/download/stellar_spectra_data.tar.gz\")\n",
        "\t\tos.system(\"tar -xzf stellar_spectra_data.tar.gz\")\n",
        "\n",
        "print (\"Reading inputs ... \", end = \"\", flush=True)\n",
        "\n",
        "nb_class = 7\n",
        "raw_spectra_size = 3753\n",
        "spectra_size = 3776\n",
        "nb_spectra = 1115\n",
        "nb_keep_val = 200\n",
        "\n",
        "class_balance = [10,30,30,20,20,30,10]\n",
        "nb_train = np.sum(class_balance) # rebalanced over 1115\n",
        "\n",
        "######################### ##########################\n",
        "#          Loading data and pre process\n",
        "######################### ##########################\n",
        "\n",
        "raw_data = np.loadtxt(\"stellar_spectra_data/train.dat\")\n",
        "raw_target = np.loadtxt(\"stellar_spectra_data/target.dat\")\n",
        "\n",
        "input = np.tanh(40*np.clip(raw_data,0.,1.))\n",
        "targ = raw_target\n",
        "\n",
        "id_classes = []\n",
        "for i in range(0, nb_class):\n",
        "\ttemp = np.where(np.argmax(targ[:,:], axis=1) == i)\n",
        "\tid_classes.append(temp)\n",
        "\n",
        "# split training and test dataset\n",
        "input_test = input[-nb_keep_val:,:]\n",
        "targ_test = targ[-nb_keep_val:,:]\n",
        "\n",
        "print (np.shape(input_test))\n",
        "\n",
        "input_train = np.empty((0,raw_spectra_size))\n",
        "targ_train = np.empty((0,nb_class))\n",
        "\n",
        "for i in range(0,nb_class):\n",
        "\tindex_list = id_classes[i][0][:class_balance[i]]\n",
        "\tfor j in range(0, len(index_list)):\n",
        "\t\tinput_train = np.append(input_train, np.reshape(input[index_list[j],:],(1,raw_spectra_size)), axis=0)\n",
        "\t\ttarg_train = np.append(targ_train, np.reshape(targ[index_list[j],:],(1,nb_class)), axis=0)\n",
        "\n",
        "pad_in_train = np.zeros((nb_train, spectra_size))\n",
        "pad_in_test = np.zeros((nb_keep_val, spectra_size))\n",
        "\n",
        "pre_pad = np.maximum(0,(spectra_size - raw_spectra_size)//2)\n",
        "post_pad = np.maximum(0,(spectra_size - raw_spectra_size)//2 + (spectra_size - raw_spectra_size)%2)\n",
        "\n",
        "pad_in_train[:,pre_pad:-post_pad] = input_train[:,:]\n",
        "pad_in_test[:,pre_pad:-post_pad] = input_test[:,:]\n",
        "\n",
        "############################################################################\n",
        "##               CIANNA network construction and use\n",
        "############################################################################\n",
        "\n",
        "#Details about the functions and parameters are given in the GitHub Wiki\n",
        "\n",
        "cnn.init(in_dim=i_ar([spectra_size]), in_nb_ch=1, out_dim=7,\n",
        "\t\tbias=0.1, b_size=VAL, comp_meth=\"C_CUDA\", #Change to C_BLAS or C_NAIV\n",
        "\t\tdynamic_load=1, mixed_precision=\"FP32C_FP32A\")\n",
        "\n",
        "cnn.create_dataset(\"TRAIN\", size=nb_train   , input=f_ar(pad_in_train), target=f_ar(targ_train))\n",
        "cnn.create_dataset(\"VALID\", size=nb_keep_val, input=f_ar(pad_in_test) , target=f_ar(targ_test))\n",
        "cnn.create_dataset(\"TEST\" , size=nb_keep_val, input=f_ar(pad_in_test) , target=f_ar(targ_test))\n",
        "\n",
        "#Python side datasets are not required anymore, they can be released to save RAM\n",
        "\n",
        "#Used to load a saved network at a given iteration\n",
        "load_step = 0\n",
        "if(load_step > 0):\n",
        "\tcnn.load(\"net_save/net0_s%04d.dat\"%(load_step), load_step)\n",
        "else:\n",
        "\t#Buid your network architecture here\n",
        "\n",
        "cnn.train(nb_iter=VAL, learning_rate=VAL, momentum=VAL, confmat=1, control_interv=20, save_every=0)\n",
        "cnn.perf_eval()\n",
        "\n",
        "#Uncomment to save network prediction\n",
        "#cnn.forward(repeat=1, drop_mode=\"AVG_MODEL\")\n",
        "\n",
        "EOF"
      ],
      "metadata": {
        "id": "2L-7ZffT9Ayq"
      },
      "execution_count": null,
      "outputs": []
    }
  ]
}