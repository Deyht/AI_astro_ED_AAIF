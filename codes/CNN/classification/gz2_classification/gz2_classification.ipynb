{
  "nbformat": 4,
  "nbformat_minor": 0,
  "metadata": {
    "colab": {
      "private_outputs": true,
      "provenance": [],
      "gpuType": "T4"
    },
    "kernelspec": {
      "name": "python3",
      "display_name": "Python 3"
    },
    "language_info": {
      "name": "python"
    },
    "accelerator": "GPU"
  },
  "cells": [
    {
      "cell_type": "markdown",
      "source": [
        "\n",
        "# **Galaxy Zoo 2 classification notebook**\n",
        "\n",
        "[![Open In Colab](https://colab.research.google.com/assets/colab-badge.svg)](https://colab.research.google.com/github/Deyht/AI_astro_ED_AAIF/blob/main/codes/CNN/classification/gz2_classification/gz2_classification.ipynb)\n",
        "\n",
        "---\n"
      ],
      "metadata": {
        "id": "JfKCrIlDu-E0"
      }
    },
    {
      "cell_type": "markdown",
      "source": [
        "### **CIANNA BETA DEV installation**\n",
        "\n",
        "/!\\ WARNING /!\\\n",
        "This beta version is not suited for general application and has been modified for the specific case covered in this notebook. Some function might have a different behavior than the expected one.\n",
        "Do not use outside this notebook !"
      ],
      "metadata": {
        "id": "vIXMFIFmvYzG"
      }
    },
    {
      "cell_type": "markdown",
      "source": [
        "#### Query GPU allocation and properties\n",
        "\n",
        "If nvidia-smi fail, it might indicate that you launched the colab session whithout GPU reservation.  \n",
        "To change the type of reservation go to \"Runtime\"->\"Change runtime type\" and select \"GPU\" as your hardware accelerator."
      ],
      "metadata": {
        "id": "Ke8s2bCZvk1_"
      }
    },
    {
      "cell_type": "code",
      "source": [
        "%%shell\n",
        "\n",
        "nvidia-smi\n",
        "\n",
        "cd /content/\n",
        "\n",
        "git clone https://github.com/NVIDIA/cuda-samples/\n",
        "\n",
        "cd /content/cuda-samples/Samples/1_Utilities/deviceQuery/\n",
        "\n",
        "make SMS=\"50 60 70 80\"\n",
        "\n",
        "./deviceQuery | grep Capability | cut -c50- > ~/cuda_infos.txt\n",
        "./deviceQuery | grep \"CUDA Driver Version / Runtime Version\" | cut -c57- >> ~/cuda_infos.txt\n",
        "\n",
        "cd ~/"
      ],
      "metadata": {
        "id": "AHq06Uwk49Ak"
      },
      "execution_count": null,
      "outputs": []
    },
    {
      "cell_type": "markdown",
      "source": [
        "If you are granted a GPU that supports high FP16 compute scaling (e.g the Tesla T4), it is advised to change the mixed_precision parameter in the last cell to \"FP16C_FP32A\".  \n",
        "See the detail description on mixed precision support with CIANNA on the [Systeme Requirements](https://github.com/Deyht/CIANNA/wiki/1\\)-System-Requirements) wiki page."
      ],
      "metadata": {
        "id": "tZ-lmHiRBFwt"
      }
    },
    {
      "cell_type": "markdown",
      "source": [
        "#### Clone CIANNA git repository"
      ],
      "metadata": {
        "id": "A1SJ6-x8vqsC"
      }
    },
    {
      "cell_type": "code",
      "source": [
        "%%shell\n",
        "\n",
        "cd /content/\n",
        "\n",
        "git clone https://github.com/Deyht/CIANNA\n",
        "\n",
        "cd CIANNA"
      ],
      "metadata": {
        "id": "_uptvrov55YL"
      },
      "execution_count": null,
      "outputs": []
    },
    {
      "cell_type": "markdown",
      "source": [
        "#### Compiling CIANNA for the allocated GPU generation\n",
        "\n",
        "There is no guaranteed forward or backward compatibility between Nvidia GPU generation, and some capabilities are generation specific. For these reasons, CIANNA must be provided the platform GPU generation at compile time.\n",
        "The following cell will automatically update all the necessary files based on the detected GPU, and compile CIANNA."
      ],
      "metadata": {
        "id": "JYGPC3OUv0td"
      }
    },
    {
      "cell_type": "code",
      "source": [
        "%%shell\n",
        "\n",
        "cd /content/CIANNA\n",
        "\n",
        "mult=\"10\"\n",
        "cat ~/cuda_infos.txt\n",
        "comp_cap=\"$(sed '1!d' ~/cuda_infos.txt)\"\n",
        "cuda_vers=\"$(sed '2!d' ~/cuda_infos.txt)\"\n",
        "\n",
        "lim=\"11.1\"\n",
        "old_arg=$(awk '{if ($1 < $2) print \"-D CUDA_OLD\";}' <<<\"${cuda_vers} ${lim}\")\n",
        "\n",
        "sm_val=$(awk '{print $1*$2}' <<<\"${mult} ${comp_cap}\")\n",
        "\n",
        "gen_val=$(awk '{if ($1 >= 80) print \"-D GEN_AMPERE\"; else if($1 >= 70) print \"-D GEN_VOLTA\";}' <<<\"${sm_val}\")\n",
        "\n",
        "sed -i \"s/.*arch=sm.*/\\\\t\\tcuda_arg=\\\"\\$cuda_arg -D CUDA -D comp_CUDA -lcublas -lcudart -arch=sm_$sm_val $old_arg $gen_val\\\"/g\" compile.cp\n",
        "sed -i \"s/\\/cuda-[0-9][0-9].[0-9]/\\/cuda-$cuda_vers/g\" compile.cp\n",
        "sed -i \"s/\\/cuda-[0-9][0-9].[0-9]/\\/cuda-$cuda_vers/g\" src/python_module_setup.py\n",
        "\n",
        "./compile.cp CUDA PY_INTERF\n",
        "\n",
        "mv src/build/lib.linux-x86_64-* src/build/lib.linux-x86_64"
      ],
      "metadata": {
        "id": "HGJUvmWW7YE6"
      },
      "execution_count": null,
      "outputs": []
    },
    {
      "cell_type": "markdown",
      "source": [
        "#### Testing CIANNA installation\n",
        "\n",
        "**IMPORTANT NOTE**   \n",
        "CIANNA is mainly used in a script fashion and was not designed to run in notebooks. Every cell code that directly invokes CIANNA functions must be run as a script to avoid possible errors.  \n",
        "To do so, the cell must have the following structure.\n",
        "\n",
        "```\n",
        "%%shell\n",
        "\n",
        "cd /content/CIANNA\n",
        "\n",
        "python3 - <<EOF\n",
        "\n",
        "[... your python code ...]\n",
        "\n",
        "EOF\n",
        "```\n",
        "\n",
        "This syntax allows one to easily edit python code in the notebook while running the cell as a script. Note that all the notebook variables can not be accessed by the cell in this context.\n"
      ],
      "metadata": {
        "id": "vbnBhbIL8wv1"
      }
    },
    {
      "cell_type": "markdown",
      "source": [
        "### **Galaxy Zoo 2 classification**\n",
        "\n",
        "In the original Galaxy Zoo project, volunteers classified images of Sloan Digital Sky Survey galaxies as belonging to one of six categories - elliptical, clockwise spiral, anticlockwise spiral, edge-on , star/don't know, or merger. GZ2 extends the original Galaxy Zoo classifications for a subsample of the brightest and largest galaxies in the Legacy release, measuring more detailed morphological features. This includes galactic bars, spiral arm and pitch angle, bulges, edge-on galaxies, relative ellipticities, and many others.\n",
        "\n",
        "There are 243,434 images in total, all resized to a 424x424 resolution. Images are composed so the main object is centered and a part of the environment is visible. This implies that the FoV of each image is different.\n",
        "For simplicity, we will use cropped and resized images that are more zoomed in toward the object and resized to a either a 64x64 or a 128x128 image resolution.\n",
        "\n",
        "Details on the classification process can be found in [Hart et al. 2016](https://academic.oup.com/mnras/article/461/4/3663/2608720?login=true)\n"
      ],
      "metadata": {
        "id": "Lml8Hhi4rZjp"
      }
    },
    {
      "cell_type": "markdown",
      "source": [
        "#### Downloading and visualizing the data"
      ],
      "metadata": {
        "id": "XdOAXvtUwvdr"
      }
    },
    {
      "cell_type": "code",
      "source": [
        "%%shell\n",
        "\n",
        "cd /content/\n",
        "\n",
        "#Manually upload the directory to github if not yet opened\n",
        "git clone https://github.com/Deyht/AI_astro_ED_AAIF"
      ],
      "metadata": {
        "id": "YNLqN_zc0jLr"
      },
      "execution_count": null,
      "outputs": []
    },
    {
      "cell_type": "code",
      "source": [
        "%%shell\n",
        "\n",
        "cd /content/AI_astro_ED_AAIF/codes/CNN/classification/gz2_classification/\n",
        "\n",
        "python3 - <<EOF\n",
        "\n",
        "#Will download the dataset at the fist call\n",
        "from aux_fct import *\n",
        "\n",
        "create_train_batch(visual=1)\n",
        "\n",
        "EOF"
      ],
      "metadata": {
        "id": "_FtxcajXtSnN"
      },
      "execution_count": null,
      "outputs": []
    },
    {
      "cell_type": "code",
      "source": [
        "%cd /content/AI_astro_ED_AAIF/codes/CNN/classification/gz2_classification/\n",
        "\n",
        "from PIL import Image\n",
        "import matplotlib.pyplot as plt\n",
        "\n",
        "im = Image.open(\"training_set_example.jpg\")\n",
        "plt.figure(figsize=(5,4), dpi=200)\n",
        "plt.imshow(im)\n",
        "plt.gca().axis('off')\n",
        "plt.show()\n"
      ],
      "metadata": {
        "id": "v8agIFWyBOKQ"
      },
      "execution_count": null,
      "outputs": []
    },
    {
      "cell_type": "markdown",
      "source": [
        "#### Train the classifier"
      ],
      "metadata": {
        "id": "dFJsfKA3y6wk"
      }
    },
    {
      "cell_type": "code",
      "source": [
        "%%shell\n",
        "\n",
        "cd /content/AI_astro_ED_AAIF/codes/CNN/classification/gz2_classification/\n",
        "\n",
        "python3 - <<EOF\n",
        "\n",
        "\n",
        "import time\n",
        "import locale\n",
        "import matplotlib.pyplot as plt\n",
        "from scipy import signal\n",
        "from threading import Thread\n",
        "\n",
        "from aux_fct import *\n",
        "import numpy as np\n",
        "\n",
        "#Comment to access system wide install\n",
        "import sys, glob\n",
        "sys.path.insert(0,glob.glob('/content/CIANNA/src/build/lib.*/')[-1])\n",
        "import CIANNA as cnn\n",
        "\n",
        "\n",
        "def i_ar(int_list):\n",
        "\treturn np.array(int_list, dtype=\"int\")\n",
        "\n",
        "def f_ar(float_list):\n",
        "\treturn np.array(float_list, dtype=\"float32\")\n",
        "\n",
        "def data_augm():\n",
        "\n",
        "\tdata_augm, targets_augm = create_train_batch()\n",
        "\tcnn.delete_dataset(\"TRAIN_buf\", silent=1)\n",
        "\tcnn.create_dataset(\"TRAIN_buf\", nb_im_train, data_augm, targets_augm, silent=1)\n",
        "\treturn\n",
        "\n",
        "\n",
        "data_train, target_train = create_train_batch()\n",
        "data_valid, target_valid = create_test_batch()\n",
        "data_test, target_test = create_test_batch()\n",
        "\n",
        "cnn.init(in_dim=i_ar([image_size,image_size]), in_nb_ch=im_depth+1, out_dim=nb_class, \\\n",
        "\t\tbias=0.1, b_size=8, comp_meth=\"C_CUDA\", dynamic_load=1, mixed_precision=\"FP16C_FP32A\") #Change to C_BLAS or C_NAI\n",
        "\n",
        "cnn.create_dataset(\"TRAIN\", size=nb_im_train, input=data_train, target=target_train)\n",
        "cnn.create_dataset(\"VALID\", size=nb_im_test , input=data_valid, target=target_valid)\n",
        "\n",
        "del(data_valid)\n",
        "\n",
        "load_epoch = 0\n",
        "if (len(sys.argv) > 1):\n",
        "\tload_epoch = int(sys.argv[1])\n",
        "if(load_epoch > 0):\n",
        "\tcnn.load(\"net_save/net0_s%04d.dat\"%load_epoch,load_epoch,0)\n",
        "else:\n",
        "\n",
        "\tcnn.conv(f_size=i_ar([5,5]), nb_filters=16  , padding=i_ar([2,2]), activation=\"RELU\")\n",
        "\tcnn.pool(p_size=i_ar([2,2]), p_type=\"MAX\")\n",
        "\tcnn.norm(group_size=1, activation=\"LIN\")\n",
        "\n",
        "\tcnn.conv(f_size=i_ar([3,3]), nb_filters=32  , padding=i_ar([2,2]), activation=\"RELU\")\n",
        "\tcnn.pool(p_size=i_ar([2,2]), p_type=\"MAX\")\n",
        "\tcnn.norm(group_size=1, activation=\"LIN\")\n",
        "\n",
        "\tcnn.conv(f_size=i_ar([3,3]), nb_filters=64\t, padding=i_ar([1,1]), activation=\"RELU\")\n",
        "\tcnn.pool(p_size=i_ar([2,2]), p_type=\"MAX\")\n",
        "\tcnn.norm(group_size=1, activation=\"LIN\")\n",
        "\n",
        "\tcnn.conv(f_size=i_ar([3,3]), nb_filters=128 , padding=i_ar([1,1]), activation=\"RELU\")\n",
        "\tcnn.conv(f_size=i_ar([1,1]), nb_filters=64  , padding=i_ar([0,0]), activation=\"RELU\")\n",
        "\tcnn.conv(f_size=i_ar([3,3]), nb_filters=128 , padding=i_ar([1,1]), activation=\"RELU\")\n",
        "\tcnn.pool(p_size=i_ar([2,2]), p_type=\"MAX\")\n",
        "\tcnn.norm(group_size=1, activation=\"LIN\")\n",
        "\n",
        "\tcnn.conv(f_size=i_ar([3,3]), nb_filters=128 , padding=i_ar([1,1]), activation=\"RELU\")\n",
        "\tcnn.conv(f_size=i_ar([1,1]), nb_filters=64  , padding=i_ar([0,0]), activation=\"RELU\")\n",
        "\tcnn.conv(f_size=i_ar([3,3]), nb_filters=128 , padding=i_ar([1,1]), activation=\"RELU\")\n",
        "\tcnn.pool(p_size=i_ar([2,2]), p_type=\"MAX\")\n",
        "\tcnn.norm(group_size=1, activation=\"LIN\")\n",
        "\n",
        "\tcnn.conv(f_size=i_ar([1,1]), nb_filters=nb_class , padding=i_ar([0,0]), activation=\"LIN\")\n",
        "\tcnn.pool(p_size=i_ar([1,1]), p_type=\"AVG\", p_global=1, activation=\"SMAX\")\n",
        "\n",
        "\n",
        "for i in range(load_epoch,1200):\n",
        "\tt = Thread(target=data_augm)\n",
        "\tt.start()\n",
        "\n",
        "\tcnn.train(nb_iter=1, learning_rate=0.001, end_learning_rate=0.0005, lr_decay=0.001, momentum=0.0, weight_decay=0.00002,\n",
        "\t\tconfmat=1, control_interv=10, save_every=50, TC_scale_factor=1.0)\n",
        "\n",
        "\tt.join()\n",
        "\tcnn.swap_data_buffers(\"TRAIN\")\n",
        "\n",
        "\n",
        "EOF"
      ],
      "metadata": {
        "id": "YDDDvKO8y-Em"
      },
      "execution_count": null,
      "outputs": []
    }
  ]
}