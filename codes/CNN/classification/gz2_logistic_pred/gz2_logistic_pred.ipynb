{
  "nbformat": 4,
  "nbformat_minor": 0,
  "metadata": {
    "colab": {
      "private_outputs": true,
      "provenance": [],
      "gpuType": "T4"
    },
    "kernelspec": {
      "name": "python3",
      "display_name": "Python 3"
    },
    "language_info": {
      "name": "python"
    },
    "accelerator": "GPU"
  },
  "cells": [
    {
      "cell_type": "markdown",
      "source": [
        "\n",
        "# **Galaxy Zoo 2 decision tree logistic prediction notebook**\n",
        "\n",
        "[![Open In Colab](https://colab.research.google.com/assets/colab-badge.svg)](https://colab.research.google.com/github/Deyht/AI_astro_ED_AAIF/blob/main/codes/CNN/classification/gz2_logistic_pred/gz2_logistic_pred.ipynb)\n",
        "\n",
        "---\n"
      ],
      "metadata": {
        "id": "JfKCrIlDu-E0"
      }
    },
    {
      "cell_type": "markdown",
      "source": [
        "### **CIANNA BETA DEV installation**\n",
        "\n",
        "/!\\ WARNING /!\\\n",
        "This beta version is not suited for general application and has been modified for the specific case covered in this notebook. Some function might have a different behavior than the expected one.\n",
        "Do not use outside this notebook !"
      ],
      "metadata": {
        "id": "vIXMFIFmvYzG"
      }
    },
    {
      "cell_type": "markdown",
      "source": [
        "#### Query GPU allocation and properties\n",
        "\n",
        "If nvidia-smi fail, it might indicate that you launched the colab session whithout GPU reservation.  \n",
        "To change the type of reservation go to \"Runtime\"->\"Change runtime type\" and select \"GPU\" as your hardware accelerator."
      ],
      "metadata": {
        "id": "Ke8s2bCZvk1_"
      }
    },
    {
      "cell_type": "code",
      "source": [
        "%%shell\n",
        "\n",
        "nvidia-smi\n",
        "\n",
        "cd /content/\n",
        "\n",
        "git clone https://github.com/NVIDIA/cuda-samples/\n",
        "\n",
        "cd /content/cuda-samples/Samples/1_Utilities/deviceQuery/\n",
        "\n",
        "cmake CMakeLists.txt\n",
        "\n",
        "make SMS=\"50 60 70 80\"\n",
        "\n",
        "./deviceQuery | grep Capability | cut -c50- > ~/cuda_infos.txt\n",
        "./deviceQuery | grep \"CUDA Driver Version / Runtime Version\" | cut -c57- >> ~/cuda_infos.txt\n",
        "\n",
        "cd ~/"
      ],
      "metadata": {
        "id": "AHq06Uwk49Ak"
      },
      "execution_count": null,
      "outputs": []
    },
    {
      "cell_type": "markdown",
      "source": [
        "If you are granted a GPU that supports high FP16 compute scaling (e.g the Tesla T4), it is advised to change the mixed_precision parameter in the last cell to \"FP16C_FP32A\".  \n",
        "See the detail description on mixed precision support with CIANNA on the [Systeme Requirements](https://github.com/Deyht/CIANNA/wiki/1\\)-System-Requirements) wiki page."
      ],
      "metadata": {
        "id": "tZ-lmHiRBFwt"
      }
    },
    {
      "cell_type": "markdown",
      "source": [
        "#### Clone CIANNA git repository"
      ],
      "metadata": {
        "id": "A1SJ6-x8vqsC"
      }
    },
    {
      "cell_type": "code",
      "source": [
        "%%shell\n",
        "\n",
        "cd /content/\n",
        "\n",
        "git clone https://github.com/Deyht/CIANNA\n",
        "\n",
        "cd CIANNA"
      ],
      "metadata": {
        "id": "_uptvrov55YL"
      },
      "execution_count": null,
      "outputs": []
    },
    {
      "cell_type": "markdown",
      "source": [
        "#### Compiling CIANNA for the allocated GPU generation\n",
        "\n",
        "There is no guaranteed forward or backward compatibility between Nvidia GPU generation, and some capabilities are generation specific. For these reasons, CIANNA must be provided the platform GPU generation at compile time.\n",
        "The following cell will automatically update all the necessary files based on the detected GPU, and compile CIANNA."
      ],
      "metadata": {
        "id": "JYGPC3OUv0td"
      }
    },
    {
      "cell_type": "code",
      "source": [
        "%%shell\n",
        "\n",
        "cd /content/CIANNA\n",
        "\n",
        "mult=\"10\"\n",
        "cat ~/cuda_infos.txt\n",
        "comp_cap=\"$(sed '1!d' ~/cuda_infos.txt)\"\n",
        "cuda_vers=\"$(sed '2!d' ~/cuda_infos.txt)\"\n",
        "\n",
        "lim=\"11.1\"\n",
        "old_arg=$(awk '{if ($1 < $2) print \"-D CUDA_OLD\";}' <<<\"${cuda_vers} ${lim}\")\n",
        "\n",
        "sm_val=$(awk '{print $1*$2}' <<<\"${mult} ${comp_cap}\")\n",
        "\n",
        "gen_val=$(awk '{if ($1 >= 80) print \"-D GEN_AMPERE\"; else if($1 >= 70) print \"-D GEN_VOLTA\";}' <<<\"${sm_val}\")\n",
        "\n",
        "sed -i \"s/.*arch=sm.*/\\\\t\\tcuda_arg=\\\"\\$cuda_arg -D CUDA -D comp_CUDA -lcublas -lcudart -arch=sm_$sm_val $old_arg $gen_val\\\"/g\" compile.cp\n",
        "sed -i \"s/\\/cuda-[0-9][0-9].[0-9]/\\/cuda-$cuda_vers/g\" compile.cp\n",
        "sed -i \"s/\\/cuda-[0-9][0-9].[0-9]/\\/cuda-$cuda_vers/g\" src/python_module_setup.py\n",
        "\n",
        "./compile.cp CUDA PY_INTERF\n",
        "\n",
        "mv src/build/lib.linux-x86_64-* src/build/lib.linux-x86_64"
      ],
      "metadata": {
        "id": "HGJUvmWW7YE6"
      },
      "execution_count": null,
      "outputs": []
    },
    {
      "cell_type": "markdown",
      "source": [
        "#### Testing CIANNA installation\n",
        "\n",
        "**IMPORTANT NOTE**   \n",
        "CIANNA is mainly used in a script fashion and was not designed to run in notebooks. Every cell code that directly invokes CIANNA functions must be run as a script to avoid possible errors.  \n",
        "To do so, the cell must have the following structure.\n",
        "\n",
        "```\n",
        "%%shell\n",
        "\n",
        "cd /content/CIANNA\n",
        "\n",
        "python3 - <<EOF\n",
        "\n",
        "[... your python code ...]\n",
        "\n",
        "EOF\n",
        "```\n",
        "\n",
        "This syntax allows one to easily edit python code in the notebook while running the cell as a script. Note that all the notebook variables can not be accessed by the cell in this context.\n"
      ],
      "metadata": {
        "id": "vbnBhbIL8wv1"
      }
    },
    {
      "cell_type": "markdown",
      "source": [
        "### **Galaxy Zoo 2 classification**\n",
        "\n",
        "In the original Galaxy Zoo project, volunteers classified images of Sloan Digital Sky Survey galaxies as belonging to one of six categories - elliptical, clockwise spiral, anticlockwise spiral, edge-on , star/don't know, or merger. GZ2 extends the original Galaxy Zoo classifications for a subsample of the brightest and largest galaxies in the Legacy release, measuring more detailed morphological features. This includes galactic bars, spiral arm and pitch angle, bulges, edge-on galaxies, relative ellipticities, and many others.\n",
        "\n",
        "There are 243,434 images in total, all resized to a 424x424 resolution. Images are composed so the main object is centered and a part of the environment is visible. This implies that the FoV of each image is different.\n",
        "For simplicity, we will use cropped and resized images that are more zoomed in toward the object and resized to a either a 64x64 or a 128x128 image resolution.\n",
        "\n",
        "Details on the classification process can be found in [Hart et al. 2016](https://academic.oup.com/mnras/article/461/4/3663/2608720?login=true)\n"
      ],
      "metadata": {
        "id": "Lml8Hhi4rZjp"
      }
    },
    {
      "cell_type": "markdown",
      "source": [
        "#### Downloading and visualizing the data"
      ],
      "metadata": {
        "id": "XdOAXvtUwvdr"
      }
    },
    {
      "cell_type": "code",
      "source": [
        "%%shell\n",
        "\n",
        "cd /content/\n",
        "\n",
        "#Manually upload the directory to github if not yet opened\n",
        "git clone https://github.com/Deyht/AI_astro_ED_AAIF"
      ],
      "metadata": {
        "id": "YNLqN_zc0jLr"
      },
      "execution_count": null,
      "outputs": []
    },
    {
      "cell_type": "code",
      "source": [
        "%%shell\n",
        "\n",
        "cd /content/AI_astro_ED_AAIF/codes/CNN/classification/gz2_logistic_pred/\n",
        "\n",
        "python3 - <<EOF\n",
        "\n",
        "#Will download the dataset at the fist call\n",
        "from aux_fct import *\n",
        "\n",
        "create_train_batch(visual=1)\n",
        "\n",
        "EOF"
      ],
      "metadata": {
        "id": "_FtxcajXtSnN"
      },
      "execution_count": null,
      "outputs": []
    },
    {
      "cell_type": "code",
      "source": [
        "%cd /content/AI_astro_ED_AAIF/codes/CNN/classification/gz2_logistic_pred/\n",
        "\n",
        "from PIL import Image\n",
        "import matplotlib.pyplot as plt\n",
        "\n",
        "im = Image.open(\"training_set_example.jpg\")\n",
        "plt.figure(figsize=(5,4), dpi=250)\n",
        "plt.imshow(im)\n",
        "plt.gca().axis('off')\n",
        "plt.show()\n"
      ],
      "metadata": {
        "id": "v8agIFWyBOKQ"
      },
      "execution_count": null,
      "outputs": []
    },
    {
      "cell_type": "markdown",
      "source": [
        "#### Train the classifier"
      ],
      "metadata": {
        "id": "dFJsfKA3y6wk"
      }
    },
    {
      "cell_type": "code",
      "source": [
        "%%shell\n",
        "\n",
        "cd /content/AI_astro_ED_AAIF/codes/CNN/classification/gz2_logistic_pred/\n",
        "\n",
        "python3 - <<EOF\n",
        "\n",
        "\n",
        "import time\n",
        "import locale\n",
        "import matplotlib.pyplot as plt\n",
        "from scipy import signal\n",
        "from threading import Thread\n",
        "\n",
        "from aux_fct import *\n",
        "import numpy as np\n",
        "\n",
        "#Comment to access system wide install\n",
        "import sys, glob\n",
        "sys.path.insert(0,glob.glob('/content/CIANNA/src/build/lib.*/')[-1])\n",
        "import CIANNA as cnn\n",
        "\n",
        "\n",
        "def i_ar(int_list):\n",
        "\treturn np.array(int_list, dtype=\"int\")\n",
        "\n",
        "def f_ar(float_list):\n",
        "\treturn np.array(float_list, dtype=\"float32\")\n",
        "\n",
        "def data_augm():\n",
        "\n",
        "\tdata_augm, targets_augm = create_train_batch()\n",
        "\tcnn.delete_dataset(\"TRAIN_buf\", silent=1)\n",
        "\tcnn.create_dataset(\"TRAIN_buf\", nb_im_train, data_augm, targets_augm, silent=1)\n",
        "\treturn\n",
        "\n",
        "\n",
        "data_train, target_train = create_train_batch()\n",
        "data_test, target_test = create_test_batch()\n",
        "\n",
        "cnn.init(in_dim=i_ar([image_size,image_size]), in_nb_ch=im_depth+1, out_dim=nb_class, \\\n",
        "\t\tbias=0.1, b_size=8, comp_meth=\"C_CUDA\", dynamic_load=1, mixed_precision=\"FP16C_FP32A\") #Change to C_BLAS or C_NAI\n",
        "\n",
        "cnn.create_dataset(\"TRAIN\", size=nb_im_train, input=data_train, target=target_train)\n",
        "#cnn.create_dataset(\"VALID\", size=nb_im_test , input=data_test , target=target_test)\n",
        "cnn.create_dataset(\"TEST\", size=nb_im_test , input=data_test , target=target_test)\n",
        "\n",
        "\n",
        "load_epoch = 0\n",
        "if (len(sys.argv) > 1):\n",
        "\tload_epoch = int(sys.argv[1])\n",
        "if(load_epoch > 0):\n",
        "\tcnn.load(\"net_save/net0_s%04d.dat\"%load_epoch,load_epoch,bin=1)\n",
        "else:\n",
        "\n",
        "\tcnn.conv(f_size=i_ar([5,5]), nb_filters=16  , padding=i_ar([2,2]), activation=\"RELU\")\n",
        "\tcnn.pool(p_size=i_ar([2,2]), p_type=\"MAX\")\n",
        "\tcnn.norm(group_size=1, activation=\"LIN\")\n",
        "\n",
        "\tcnn.conv(f_size=i_ar([3,3]), nb_filters=32  , padding=i_ar([1,1]), activation=\"RELU\")\n",
        "\tcnn.pool(p_size=i_ar([2,2]), p_type=\"MAX\")\n",
        "\tcnn.norm(group_size=1, activation=\"LIN\")\n",
        "\n",
        "\tcnn.conv(f_size=i_ar([3,3]), nb_filters=64\t, padding=i_ar([1,1]), activation=\"RELU\")\n",
        "\tcnn.pool(p_size=i_ar([2,2]), p_type=\"MAX\")\n",
        "\tcnn.norm(group_size=1, activation=\"LIN\")\n",
        "\n",
        "\tcnn.conv(f_size=i_ar([3,3]), nb_filters=128 , padding=i_ar([1,1]), activation=\"RELU\")\n",
        "\tcnn.conv(f_size=i_ar([1,1]), nb_filters=64  , padding=i_ar([0,0]), activation=\"RELU\")\n",
        "\tcnn.conv(f_size=i_ar([3,3]), nb_filters=128 , padding=i_ar([1,1]), activation=\"RELU\")\n",
        "\tcnn.pool(p_size=i_ar([2,2]), p_type=\"MAX\")\n",
        "\tcnn.norm(group_size=1, activation=\"LIN\")\n",
        "\n",
        "\tcnn.conv(f_size=i_ar([3,3]), nb_filters=192 , padding=i_ar([1,1]), activation=\"RELU\")\n",
        "\tcnn.conv(f_size=i_ar([1,1]), nb_filters=96  , padding=i_ar([0,0]), activation=\"RELU\")\n",
        "\tcnn.conv(f_size=i_ar([3,3]), nb_filters=192 , padding=i_ar([1,1]), activation=\"RELU\")\n",
        "\tcnn.pool(p_size=i_ar([2,2]), p_type=\"MAX\")\n",
        "\tcnn.norm(group_size=1, activation=\"LIN\")\n",
        "\n",
        "\tcnn.dense(nb_neurons=512, drop_rate=0.4, activation=\"RELU\")\n",
        "\tcnn.dense(nb_neurons=nb_class, strict_size=1, activation=\"LOGI\")\n",
        "\n",
        "\n",
        "\n",
        "for c_iter in range(load_epoch,2000):\n",
        "\tt = Thread(target=data_augm)\n",
        "\tt.start()\n",
        "\n",
        "\tcnn.train(nb_iter=1, learning_rate=0.005, end_learning_rate=0.0005, lr_decay=0.001, momentum=0.0, weight_decay=0.00002,\n",
        "\t\tconfmat=0, control_interv=0, save_every=0, save_bin=1, TC_scale_factor=8.0, shuffle_every=0)\n",
        "\n",
        "\tif((c_iter+1)%10 == 0):\n",
        "\t\tcnn.forward(saving=2)\n",
        "\t\tpred_raw = np.fromfile(\"fwd_res/net0_%04d.dat\"%(c_iter+1), dtype=\"float32\")\n",
        "\t\tpred = np.reshape(pred_raw, (nb_test,-1))\n",
        "\t\tpred = pred[:,:nb_class]\n",
        "\n",
        "\t\tif(0):\n",
        "\t\t\tfor k in range(0, nb_class):\n",
        "\t\t\t\tc_precision = 0\n",
        "\t\t\t\tc_recall = 0\n",
        "\t\t\t\tnb_current_class = np.shape(np.where((target_test[:,k] > 0.99))[0])[0]\n",
        "\t\t\t\tnb_true = np.shape(np.where((target_test[:,k] >= 0.99) & (pred[:,k] >= 0.5))[0])[0]\n",
        "\t\t\t\tnb_false = np.shape(np.where((target_test[:,k] < 0.99) & (pred[:,k] > 0.5))[0])[0]\n",
        "\t\t\t\tif(nb_current_class > 0):\n",
        "\t\t\t\t\tc_precision = nb_true/nb_current_class\n",
        "\t\t\t\tif(nb_true+nb_false > 0):\n",
        "\t\t\t\t\tc_recall = nb_true/(nb_true+nb_false)\n",
        "\t\t\t\tprint (\"C%02d - R = %0.3f - P = %0.3f - N_targ = %5d - N_True = %5d - N_Flase = %5d\"%(k, c_recall, c_precision, nb_current_class, nb_true, nb_false))\n",
        "\t\telse:\n",
        "\t\t\tfor master_class in master_classes:\n",
        "\t\t\t\tsubset_index = np.where(gz2_catalog_header[5:].astype(\"<U3\") == master_class)[0]\n",
        "\t\t\t\ttarg_subset = target_test[:,subset_index]\n",
        "\t\t\t\treal_class = np.argmax(targ_subset, axis=1)\n",
        "\t\t\t\tnb_sub_class = np.shape(targ_subset)[1]\n",
        "\n",
        "\t\t\t\tpred_subset = pred[:,subset_index]\n",
        "\t\t\t\tpred_subset = -np.log(1.0/np.clip(pred_subset,0.01,0.99) - 1.0)\n",
        "\t\t\t\tpred_subset = np.exp(pred_subset)\n",
        "\t\t\t\tmax_val_array = np.sum(pred_subset,axis=1)\n",
        "\t\t\t\tmax_val_array = np.tile(max_val_array,(np.shape(pred_subset)[1],1)).T\n",
        "\t\t\t\tpred_subset /= max_val_array\n",
        "\t\t\t\tpred_class = np.argmax(pred_subset, axis=1)\n",
        "\n",
        "\t\t\t\tclass_conf_mat = np.zeros((nb_sub_class+1, nb_sub_class+1), dtype=\"float\")\n",
        "\t\t\t\tfor i in range(0, nb_sub_class):\n",
        "\t\t\t\t\tfor j in range(0, nb_sub_class):\n",
        "\t\t\t\t\t\tindex = np.where((real_class == i) & (pred_class == j))[0]\n",
        "\t\t\t\t\t\tclass_conf_mat[i,j] += np.shape(index)[0]\n",
        "\n",
        "\t\t\t\tsum_good = 0\n",
        "\t\t\t\tfor i in range(0, nb_sub_class):\n",
        "\t\t\t\t\tclass_conf_mat[i,nb_sub_class] = class_conf_mat[i,i]/max(1,np.sum(class_conf_mat[i,:]))\n",
        "\t\t\t\t\tclass_conf_mat[nb_sub_class,i] = class_conf_mat[i,i]/max(1,np.sum(class_conf_mat[:,i]))\n",
        "\t\t\t\t\tsum_good += class_conf_mat[i,i]\n",
        "\t\t\t\tclass_conf_mat[nb_sub_class,nb_sub_class] = sum_good/np.sum(class_conf_mat[:-1,:-1])\n",
        "\n",
        "\t\t\t\tprint(\"%s confmat\"%master_class)\n",
        "\t\t\t\tfor i in range(0, nb_sub_class):\n",
        "\t\t\t\t\tfor j in range(0, nb_sub_class):\n",
        "\t\t\t\t\t\tprint(\"%5d \"%(int(class_conf_mat[i,j])), end=\"\")\n",
        "\t\t\t\t\tprint(\"%0.3f \"%(class_conf_mat[i,nb_sub_class]))\n",
        "\t\t\t\tfor j in range(0, nb_sub_class+1):\n",
        "\t\t\t\t\tprint(\"%0.3f \"%(class_conf_mat[nb_sub_class,j]), end=\"\")\n",
        "\t\t\t\tprint(\"\")\n",
        "\n",
        "\n",
        "\tt.join()\n",
        "\tcnn.swap_data_buffers(\"TRAIN\")\n",
        "\n",
        "\n",
        "EOF"
      ],
      "metadata": {
        "id": "YDDDvKO8y-Em"
      },
      "execution_count": null,
      "outputs": []
    }
  ]
}
