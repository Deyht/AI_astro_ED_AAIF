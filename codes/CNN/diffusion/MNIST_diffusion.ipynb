{
  "nbformat": 4,
  "nbformat_minor": 0,
  "metadata": {
    "colab": {
      "private_outputs": true,
      "provenance": []
    },
    "kernelspec": {
      "name": "python3",
      "display_name": "Python 3"
    },
    "language_info": {
      "name": "python"
    },
    "accelerator": "GPU",
    "gpuClass": "standard"
  },
  "cells": [
    {
      "cell_type": "markdown",
      "source": [
        "\n",
        "# **MNIST - Denoising Diffusion Probabilistic Model**\n",
        "\n",
        "[![Open In Colab](https://colab.research.google.com/assets/colab-badge.svg)](https://colab.research.google.com/github/Deyht/AI_astro_ED_AAIF/blob/main/codes/CNN/diffusion/MNIST_diffusion.ipynb)\n",
        "\n",
        "---\n"
      ],
      "metadata": {
        "id": "JfKCrIlDu-E0"
      }
    },
    {
      "cell_type": "markdown",
      "source": [
        "### **CIANNA BETA DEV installation**\n",
        "\n",
        "/!\\ WARNING /!\\\n",
        "This beta version is not suited for general application and has been modified for the specific case covered in this notebook. Some function might have a different behavior than the expected one.\n",
        "Do not use outside this notebook !"
      ],
      "metadata": {
        "id": "vIXMFIFmvYzG"
      }
    },
    {
      "cell_type": "markdown",
      "source": [
        "#### Query GPU allocation and properties\n",
        "\n",
        "If nvidia-smi fail, it might indicate that you launched the colab session whithout GPU reservation.  \n",
        "To change the type of reservation go to \"Runtime\"->\"Change runtime type\" and select \"GPU\" as your hardware accelerator."
      ],
      "metadata": {
        "id": "Ke8s2bCZvk1_"
      }
    },
    {
      "cell_type": "code",
      "source": [
        "%%shell\n",
        "\n",
        "nvidia-smi\n",
        "\n",
        "cd /content/\n",
        "\n",
        "git clone https://github.com/NVIDIA/cuda-samples/\n",
        "\n",
        "cd /content/cuda-samples/Samples/1_Utilities/deviceQuery/\n",
        "\n",
        "cmake CMakeLists.txt\n",
        "\n",
        "make SMS=\"50 60 70 80\"\n",
        "\n",
        "./deviceQuery | grep Capability | cut -c50- > ~/cuda_infos.txt\n",
        "./deviceQuery | grep \"CUDA Driver Version / Runtime Version\" | cut -c57- >> ~/cuda_infos.txt\n",
        "\n",
        "cd ~/"
      ],
      "metadata": {
        "id": "AHq06Uwk49Ak"
      },
      "execution_count": null,
      "outputs": []
    },
    {
      "cell_type": "markdown",
      "source": [
        "If you are granted a GPU that supports high FP16 compute scaling (e.g the Tesla T4), it is advised to change the mixed_precision parameter in the last cell to \"FP16C_FP32A\".  \n",
        "See the detail description on mixed precision support with CIANNA on the [Systeme Requirements](https://github.com/Deyht/CIANNA/wiki/1\\)-System-Requirements) wiki page."
      ],
      "metadata": {
        "id": "tZ-lmHiRBFwt"
      }
    },
    {
      "cell_type": "markdown",
      "source": [
        "#### Clone CIANNA git repository"
      ],
      "metadata": {
        "id": "A1SJ6-x8vqsC"
      }
    },
    {
      "cell_type": "code",
      "source": [
        "%%shell\n",
        "\n",
        "cd /content/\n",
        "\n",
        "wget https://share.obspm.fr/s/KNw8aYAEjfxJzsR/download/CIANNA_exp_07_02_25.tar.gz\n",
        "tar -xvzf CIANNA_exp_07_02_25.tar.gz\n",
        "mv CIANNA_exp_07_02_25 CIANNA\n",
        "\n",
        "cd CIANNA"
      ],
      "metadata": {
        "id": "_uptvrov55YL"
      },
      "execution_count": null,
      "outputs": []
    },
    {
      "cell_type": "markdown",
      "source": [
        "#### Compiling CIANNA for the allocated GPU generation\n",
        "\n",
        "There is no guaranteed forward or backward compatibility between Nvidia GPU generation, and some capabilities are generation specific. For these reasons, CIANNA must be provided the platform GPU generation at compile time.\n",
        "The following cell will automatically update all the necessary files based on the detected GPU, and compile CIANNA."
      ],
      "metadata": {
        "id": "JYGPC3OUv0td"
      }
    },
    {
      "cell_type": "code",
      "source": [
        "%%shell\n",
        "\n",
        "cd /content/CIANNA\n",
        "\n",
        "mult=\"10\"\n",
        "cat ~/cuda_infos.txt\n",
        "comp_cap=\"$(sed '1!d' ~/cuda_infos.txt)\"\n",
        "cuda_vers=\"$(sed '2!d' ~/cuda_infos.txt)\"\n",
        "\n",
        "lim=\"11.1\"\n",
        "old_arg=$(awk '{if ($1 < $2) print \"-D CUDA_OLD\";}' <<<\"${cuda_vers} ${lim}\")\n",
        "\n",
        "sm_val=$(awk '{print $1*$2}' <<<\"${mult} ${comp_cap}\")\n",
        "\n",
        "gen_val=$(awk '{if ($1 >= 80) print \"-D GEN_AMPERE\"; else if($1 >= 70) print \"-D GEN_VOLTA\";}' <<<\"${sm_val}\")\n",
        "\n",
        "sed -i \"s/.*arch=sm.*/\\\\t\\tcuda_arg=\\\"\\$cuda_arg -D CUDA -D comp_CUDA -lcublas -lcudart -arch=sm_$sm_val $old_arg $gen_val\\\"/g\" compile.cp\n",
        "sed -i \"s/\\/cuda-[0-9][0-9].[0-9]/\\/cuda-$cuda_vers/g\" compile.cp\n",
        "sed -i \"s/\\/cuda-[0-9][0-9].[0-9]/\\/cuda-$cuda_vers/g\" src/python_module_setup.py\n",
        "\n",
        "./compile.cp CUDA PY_INTERF\n",
        "\n",
        "mv src/build/lib.linux-x86_64-* src/build/lib.linux-x86_64"
      ],
      "metadata": {
        "id": "HGJUvmWW7YE6"
      },
      "execution_count": null,
      "outputs": []
    },
    {
      "cell_type": "markdown",
      "source": [
        "#### Testing CIANNA installation\n",
        "\n",
        "**IMPORTANT NOTE**   \n",
        "CIANNA is mainly used in a script fashion and was not designed to run in notebooks. Every cell code that directly invokes CIANNA functions must be run as a script to avoid possible errors.  \n",
        "To do so, the cell must have the following structure.\n",
        "\n",
        "```\n",
        "%%shell\n",
        "\n",
        "cd /content/CIANNA\n",
        "\n",
        "python3 - <<EOF\n",
        "\n",
        "[... your python code ...]\n",
        "\n",
        "EOF\n",
        "```\n",
        "\n",
        "This syntax allows one to easily edit python code in the notebook while running the cell as a script. Note that all the notebook variables can not be accessed by the cell in this context.\n"
      ],
      "metadata": {
        "id": "vbnBhbIL8wv1"
      }
    },
    {
      "cell_type": "markdown",
      "source": [
        "### **MNIST image generator**\n"
      ],
      "metadata": {
        "id": "Lml8Hhi4rZjp"
      }
    },
    {
      "cell_type": "markdown",
      "source": [
        "#### Data Handling"
      ],
      "metadata": {
        "id": "XdOAXvtUwvdr"
      }
    },
    {
      "cell_type": "code",
      "source": [
        "%cd /content/\n",
        "\n",
        "import numpy as np\n",
        "import glob, os\n",
        "import matplotlib.pyplot as plt\n",
        "\n",
        "def cosin_schedule(t, T, s):\n",
        "\treturn np.cos((t/T+s)/(1.0+s)*(np.pi/2))**2\n",
        "\n",
        "image_size = 28\n",
        "\n",
        "if(not os.path.isdir(\"mnist_dat\")):\n",
        "\tos.system(\"wget https://share.obspm.fr/s/EkYR5B2Wc2gNis3/download/mnist.tar.gz\")\n",
        "\tos.system(\"tar -xvzf mnist.tar.gz\")\n",
        "\n",
        "\n",
        "print (\"Reading inputs ... \", end = \"\", flush=True)\n",
        "\n",
        "#Loading binary files\n",
        "raw_data = np.fromfile(\"mnist_dat/mnist_input.dat\", dtype=\"float32\")\n",
        "raw_data = np.reshape(raw_data, (-1,28*28))\n",
        "\n",
        "nb_raw_images = np.shape(raw_data)[0]\n",
        "\n",
        "n_step = 400\n",
        "\n",
        "min_signal_rate = 0.05**2\n",
        "max_signal_rate = 1.00**2\n",
        "\n",
        "p_alpha_t = cosin_schedule(np.linspace(0,n_step, n_step),n_step,0.0008)\n",
        "p_alpha_t -= np.min(p_alpha_t[:-1])\n",
        "p_alpha_t /= np.max(p_alpha_t[:-1])\n",
        "\n",
        "p_alpha_t = p_alpha_t * (max_signal_rate - min_signal_rate) + min_signal_rate\n",
        "\n",
        "\n",
        "def create_batch(nb_im_size):\n",
        "\n",
        "\tdata = np.zeros((nb_im_size,image_size*image_size), dtype=\"float32\")\n",
        "\ttargets = np.zeros((nb_im_size,image_size*image_size), dtype=\"float32\")\n",
        "\n",
        "\tfor i in range(0,nb_im_size):\n",
        "\t\ti_d = int(np.random.random()*nb_raw_images)\n",
        "\n",
        "\t\tpatch = raw_data[i_d,:]\n",
        "\n",
        "\t\tstep = np.random.randint(0,n_step-2)\n",
        "\n",
        "\t\tnoise_patch = np.random.normal(loc=0.0, scale=1.0, size=(image_size*image_size))\n",
        "\n",
        "\t\tpatch_in = np.sqrt(p_alpha_t[step+1])*patch + np.sqrt(1.0-p_alpha_t[step+1])*noise_patch\n",
        "\n",
        "\t\tdata[i,:] = patch_in[:]\n",
        "\t\ttargets[i,:] = noise_patch[:]\n",
        "\n",
        "\treturn data, targets\n",
        "\n"
      ],
      "metadata": {
        "id": "_FtxcajXtSnN"
      },
      "execution_count": null,
      "outputs": []
    },
    {
      "cell_type": "markdown",
      "source": [
        "#### Visualize random subset of raw data"
      ],
      "metadata": {
        "id": "Uhim2jOGBKjC"
      }
    },
    {
      "cell_type": "code",
      "source": [
        "sq_size = 5\n",
        "\n",
        "im_index = np.random.randint(0,nb_raw_images, sq_size**2)\n",
        "\n",
        "fig, axs = plt.subplots(sq_size, sq_size, figsize=(1.2*sq_size,1.2*sq_size), dpi=120, constrained_layout=True)\n",
        "\n",
        "for i in range(0, sq_size):\n",
        "  for j in range(0, sq_size):\n",
        "    axs[i][j].set_axis_off()\n",
        "    patch = np.reshape(raw_data[i*sq_size+j],(image_size, image_size))\n",
        "    axs[i][j].imshow(patch, interpolation=\"bilinear\", cmap=\"binary\")\n",
        "plt.show()"
      ],
      "metadata": {
        "id": "v8agIFWyBOKQ"
      },
      "execution_count": null,
      "outputs": []
    },
    {
      "cell_type": "markdown",
      "source": [
        "#### Visualize a training noise chain\n",
        "\n",
        "\n"
      ],
      "metadata": {
        "id": "ASy6tp2Rw2p6"
      }
    },
    {
      "cell_type": "code",
      "source": [
        "steps_list = np.arange(0,n_step, int(n_step/10))\n",
        "\n",
        "print (steps_list)\n",
        "\n",
        "im_id = 0\n",
        "\n",
        "patch = raw_data[im_id]\n",
        "\n",
        "fig, axs = plt.subplots(1, len(steps_list), figsize=(2*len(steps_list),2), dpi=150, constrained_layout=True)\n",
        "\n",
        "for i in range(len(steps_list)):\n",
        "  step = steps_list[i]\n",
        "\n",
        "  noise_patch = np.random.normal(loc=0.0, scale=1.0, size=(image_size*image_size))\n",
        "\n",
        "  patch_in = np.sqrt(p_alpha_t[step+1])*patch + np.sqrt(1.0-p_alpha_t[step+1])*noise_patch\n",
        "\n",
        "  axs[i].set_axis_off()\n",
        "  axs[i].imshow(np.clip(np.reshape(patch_in,(image_size,image_size)),0,1), interpolation=\"bilinear\", cmap=\"binary\")\n",
        "\n",
        "plt.show()"
      ],
      "metadata": {
        "id": "f3YVQBS5wy_D"
      },
      "execution_count": null,
      "outputs": []
    },
    {
      "cell_type": "markdown",
      "source": [
        "#### Visualize a training batch"
      ],
      "metadata": {
        "id": "RBPXdhWc4izD"
      }
    },
    {
      "cell_type": "code",
      "source": [
        "sq_size = 5\n",
        "\n",
        "data_augm, target_augm = create_batch(sq_size**2)\n",
        "\n",
        "fig, axs = plt.subplots(sq_size, sq_size, figsize=(1.2*sq_size,1.2*sq_size), dpi=120, constrained_layout=True)\n",
        "\n",
        "patch = np.zeros((image_size, image_size,3))\n",
        "for i in range(0, sq_size):\n",
        "  for j in range(0, sq_size):\n",
        "    axs[i][j].set_axis_off()\n",
        "    patch = np.clip(np.reshape(data_augm[i*sq_size+j],(image_size,image_size)),0.0,1.0)\n",
        "    axs[i][j].imshow(patch, interpolation=\"bilinear\", cmap=\"binary\")\n",
        "plt.show()"
      ],
      "metadata": {
        "id": "6WqCpGTa4eOh"
      },
      "execution_count": null,
      "outputs": []
    },
    {
      "cell_type": "markdown",
      "source": [
        "#### Train the diffusion model\n",
        "\n"
      ],
      "metadata": {
        "id": "sdi9-6X16aNF"
      }
    },
    {
      "cell_type": "code",
      "source": [
        "%%shell\n",
        "\n",
        "cd /content/\n",
        "\n",
        "python3 - <<EOF\n",
        "\n",
        "import time\n",
        "import locale\n",
        "import matplotlib.pyplot as plt\n",
        "from scipy import signal\n",
        "from threading import Thread\n",
        "\n",
        "import numpy as np\n",
        "\n",
        "import sys, glob, os\n",
        "sys.path.insert(0,glob.glob('/content/CIANNA/src/build/lib.*/')[-1])\n",
        "import CIANNA_exp as cnn\n",
        "\n",
        "def i_ar(int_list):\n",
        "\treturn np.array(int_list, dtype=\"int\")\n",
        "\n",
        "def f_ar(float_list):\n",
        "\treturn np.array(float_list, dtype=\"float32\")\n",
        "\n",
        "def cosin_schedule(t, T, s):\n",
        "\treturn np.cos((t/T+s)/(1.0+s)*(np.pi/2))**2\n",
        "\n",
        "\n",
        "image_size = 28\n",
        "\n",
        "if(not os.path.isdir(\"mnist_dat\")):\n",
        "\tos.system(\"wget https://share.obspm.fr/s/EkYR5B2Wc2gNis3/download/mnist.tar.gz\")\n",
        "\tos.system(\"tar -xvzf mnist.tar.gz\")\n",
        "\n",
        "if(not os.path.isdir(\"fig\")):\n",
        "\tos.system(\"mkdir fig\")\n",
        "\n",
        "print (\"Reading inputs ... \", end = \"\", flush=True)\n",
        "\n",
        "raw_data = np.fromfile(\"mnist_dat/mnist_input.dat\", dtype=\"float32\")\n",
        "raw_data = np.reshape(raw_data, (-1,28*28))\n",
        "\n",
        "nb_raw_images = np.shape(raw_data)[0]\n",
        "\n",
        "n_step = 400\n",
        "\n",
        "min_signal_rate = 0.05**2\n",
        "max_signal_rate = 1.00**2\n",
        "\n",
        "p_alpha_t = cosin_schedule(np.linspace(0,n_step, n_step),n_step,0.0008)\n",
        "p_alpha_t -= np.min(p_alpha_t[:-1])\n",
        "p_alpha_t /= np.max(p_alpha_t[:-1])\n",
        "\n",
        "p_alpha_t = p_alpha_t * (max_signal_rate - min_signal_rate) + min_signal_rate\n",
        "\n",
        "\n",
        "def create_batch(nb_im_size):\n",
        "\n",
        "\tdata = np.zeros((nb_im_size,image_size*image_size), dtype=\"float32\")\n",
        "\ttargets = np.zeros((nb_im_size,image_size*image_size), dtype=\"float32\")\n",
        "\n",
        "\tfor i in range(0,nb_im_size):\n",
        "\t\ti_d = int(np.random.random()*nb_raw_images)\n",
        "\n",
        "\t\tpatch = raw_data[i_d,:]\n",
        "\n",
        "\t\tstep = np.random.randint(0,n_step-2)\n",
        "\n",
        "\t\tnoise_patch = np.random.normal(loc=0.0, scale=1.0, size=(image_size*image_size))\n",
        "\n",
        "\t\tpatch_in = np.sqrt(p_alpha_t[step+1])*patch + np.sqrt(1.0-p_alpha_t[step+1])*noise_patch\n",
        "\n",
        "\t\tdata[i,:] = patch_in[:]\n",
        "\t\ttargets[i,:] = noise_patch[:]\n",
        "\n",
        "\treturn data, targets\n",
        "\n",
        "\n",
        "def data_augm():\n",
        "\n",
        "\tdata_augm, targets_augm = create_batch(2048)\n",
        "\tcnn.delete_dataset(\"TRAIN_buf\", silent=1)\n",
        "\tcnn.create_dataset(\"TRAIN_buf\", 2048, data_augm, targets_augm, silent=1)\n",
        "\treturn\n",
        "\n",
        "\n",
        "nb_train = 2048\n",
        "nb_valid = 256\n",
        "nb_test = 32\n",
        "\n",
        "data_train, target_train = create_batch(nb_train)\n",
        "data_valid, target_valid = create_batch(nb_valid)\n",
        "\n",
        "# Create denoiser network\n",
        "cnn.init(in_dim=i_ar([image_size,image_size]), in_nb_ch=1, out_dim=image_size*image_size, \\\n",
        "\t\tbias=0.1, b_size=16, use_wema=1, comp_meth=\"C_CUDA\", dynamic_load=1, mixed_precision=\"FP16C_FP32A\") #Change to C_BLAS or C_NAI\n",
        "\n",
        "cnn.create_dataset(\"TRAIN\", size=nb_train, input=data_train, target=target_train)\n",
        "cnn.create_dataset(\"VALID\", size=nb_valid, input=data_valid, target=target_valid)\n",
        "\n",
        "\n",
        "f_fact = 32\n",
        "\n",
        "im_s = image_size*image_size\n",
        "\n",
        "load_epoch = 0\n",
        "if(load_epoch > 0):\n",
        "\tcnn.load(\"net_save/net0_s%04d.dat\"%load_epoch,load_epoch, bin=1)\n",
        "else:\n",
        "\tcnn.conv(f_size=i_ar([3,3]), nb_filters=f_fact   , stride=i_ar([1,1]), padding=i_ar([1,1]), activation=\"RELU\")\n",
        "\tl_1 = cnn.conv(f_size=i_ar([3,3]), nb_filters=f_fact   , stride=i_ar([1,1]), padding=i_ar([1,1]), activation=\"RELU\")\n",
        "\tcnn.conv(f_size=i_ar([2,2]), nb_filters=f_fact   , stride=i_ar([2,2]), padding=i_ar([0,0]), activation=\"RELU\")\n",
        "\n",
        "\tcnn.conv(f_size=i_ar([3,3]), nb_filters=f_fact*2 , stride=i_ar([1,1]), padding=i_ar([1,1]), activation=\"RELU\")\n",
        "\tl_2 = cnn.conv(f_size=i_ar([3,3]), nb_filters=f_fact*2 , stride=i_ar([1,1]), padding=i_ar([1,1]), activation=\"RELU\")\n",
        "\tcnn.conv(f_size=i_ar([2,2]), nb_filters=f_fact*2 , stride=i_ar([2,2]), padding=i_ar([0,0]), activation=\"RELU\")\n",
        "\n",
        "\tcnn.conv(f_size=i_ar([3,3]), nb_filters=f_fact*4 , stride=i_ar([1,1]), padding=i_ar([1,1]), activation=\"RELU\")\n",
        "\tl_3 = cnn.conv(f_size=i_ar([3,3]), nb_filters=f_fact*4 , stride=i_ar([1,1]), padding=i_ar([1,1]), activation=\"RELU\")\n",
        "\tcnn.conv(f_size=i_ar([3,3]), nb_filters=f_fact*4 , stride=i_ar([2,2]), padding=i_ar([0,0]), activation=\"RELU\")\n",
        "\n",
        "\tcnn.conv(f_size=i_ar([3,3]), nb_filters=f_fact*8 , stride=i_ar([1,1]), padding=i_ar([1,1]), activation=\"RELU\")\n",
        "\tcnn.conv(f_size=i_ar([3,3]), nb_filters=f_fact*8 , stride=i_ar([1,1]), padding=i_ar([1,1]), activation=\"RELU\")\n",
        "\tcnn.conv(f_size=i_ar([3,3]), nb_filters=f_fact*8 , stride=i_ar([1,1]), padding=i_ar([1,1]), int_padding=i_ar([2,2]), activation=\"RELU\")\n",
        "\n",
        "\tcnn.merge(-1, l_3, \"CONCATENATE\")\n",
        "\tcnn.conv(f_size=i_ar([3,3]), nb_filters=f_fact*4 , stride=i_ar([1,1]), padding=i_ar([1,1]), activation=\"RELU\")\n",
        "\tcnn.conv(f_size=i_ar([3,3]), nb_filters=f_fact*4 , stride=i_ar([1,1]), padding=i_ar([1,1]), activation=\"RELU\")\n",
        "\tcnn.conv(f_size=i_ar([2,2]), nb_filters=f_fact*4 , stride=i_ar([1,1]), padding=i_ar([1,1]), int_padding=i_ar([1,1]), activation=\"RELU\")\n",
        "\n",
        "\tcnn.merge(-1, l_2, \"CONCATENATE\")\n",
        "\tcnn.conv(f_size=i_ar([3,3]), nb_filters=f_fact*2 , stride=i_ar([1,1]), padding=i_ar([1,1]), activation=\"RELU\")\n",
        "\tcnn.conv(f_size=i_ar([3,3]), nb_filters=f_fact*2 , stride=i_ar([1,1]), padding=i_ar([1,1]), activation=\"RELU\")\n",
        "\tcnn.conv(f_size=i_ar([2,2]), nb_filters=f_fact*2 , stride=i_ar([1,1]), padding=i_ar([1,1]), int_padding=i_ar([1,1]), activation=\"RELU\")\n",
        "\n",
        "\tcnn.merge(-1, l_1, \"CONCATENATE\")\n",
        "\tcnn.conv(f_size=i_ar([3,3]), nb_filters=f_fact   , stride=i_ar([1,1]), padding=i_ar([1,1]), activation=\"RELU\")\n",
        "\tcnn.conv(f_size=i_ar([3,3]), nb_filters=f_fact   , stride=i_ar([1,1]), padding=i_ar([1,1]), activation=\"RELU\")\n",
        "\tcnn.conv(f_size=i_ar([1,1]), nb_filters=1        , stride=i_ar([1,1]), padding=i_ar([0,0]), activation=\"LIN\" )\n",
        "\n",
        "\n",
        "#For testing on static input noise\n",
        "input_images = np.zeros((nb_test,image_size*image_size), dtype=\"float32\")\n",
        "targets_diff = np.zeros((nb_test,image_size*image_size), dtype=\"float32\")\n",
        "input_noise = np.random.normal(loc=0.0, scale=1.0, size=(nb_test,image_size*image_size))\n",
        "\n",
        "patch = np.zeros((image_size, image_size))\n",
        "interp = \"bilinear\"\n",
        "\n",
        "\n",
        "for i in range(load_epoch,2000):\n",
        "\tt = Thread(target=data_augm)\n",
        "\tt.start()\n",
        "\n",
        "\tcnn.train(nb_iter=1, learning_rate=0.0006, end_learning_rate=0.00005, lr_decay=0.001, momentum=0.0, weight_decay=0.00002, wema_rate=0.995,\n",
        "\t\tconfmat=0, save_every=50, save_bin=1, TC_scale_factor=4.0, shuffle_every=10000)\n",
        "\tt.join()\n",
        "\n",
        "\tif(i == 0):\n",
        "\t\tcnn.perf_eval()\n",
        "\n",
        "\tcnn.swap_data_buffers(\"TRAIN\")\n",
        "\n",
        "\tif((i+1)%50 == 0):\n",
        "\t\tinput_images[:,0:im_s] = input_noise[:,:]\n",
        "\t\tinput_images[:,im_s:] = np.sqrt(1.0-p_alpha_t[-2])\n",
        "\n",
        "\t\tcnn.create_dataset(\"TEST\", nb_test, input_images, targets_diff)\n",
        "\n",
        "\t\t#For display of several diffusion step of the same input\n",
        "\t\tfig, axs = plt.subplots(4, 5, figsize=(10,8), dpi=200, constrained_layout=True)\n",
        "\t\tfor j in range(0,20):\n",
        "\t\t\taxs[int(j/5)][int(j%5)].axis('off')\n",
        "\n",
        "\t\tfig.suptitle(\"Epoch %d\"%(i+1))\n",
        "\n",
        "\t\tblock_size = n_step // 20\n",
        "\n",
        "\t\tfor step in range(1,n_step-3):\n",
        "\t\t\tcnn.forward(saving=2, no_error=1, silent=1)\n",
        "\n",
        "\t\t\tfile_name = \"fwd_res/net0_%04d.dat\"%(i+1)\n",
        "\t\t\tfwd_dat = np.fromfile(file_name, dtype=\"float32\")\n",
        "\t\t\tfwd_dat = np.reshape(fwd_dat,(nb_test,image_size*image_size))\n",
        "\n",
        "\t\t\tpred_noise = fwd_dat\n",
        "\t\t\tnew_images = (input_images[:,:] - np.sqrt(1.0-p_alpha_t[n_step-(step+1)])*pred_noise)/(np.sqrt(p_alpha_t[n_step-(step+1)]))\n",
        "\n",
        "\t\t\teta = np.sqrt((1-p_alpha_t[n_step-(step+2)])/(1-p_alpha_t[n_step-(step+1)]))*np.sqrt(1-p_alpha_t[n_step-(step+1)]/p_alpha_t[n_step-(step+2)])\n",
        "\n",
        "\t\t\tnew_noise = np.random.normal(loc=0.0, scale=1.0, size=(nb_test,image_size*image_size))\n",
        "\t\t\tinput_images[:,0:im_s] = np.sqrt(p_alpha_t[n_step-(step+2)])*new_images[:,:] + np.sqrt(1.0-p_alpha_t[n_step-(step+2)] - eta**2)*pred_noise + eta*new_noise[:,:]\n",
        "\n",
        "\t\t\tj = step/block_size\n",
        "\n",
        "\t\t\tif((step+1)%block_size == 0):\n",
        "\t\t\t\tpatch[:,:] = np.clip(np.reshape(new_images[0][:],(image_size,image_size)),0.0,1.0)\n",
        "\t\t\t\taxs[int(j/5)][int(j%5)].imshow(patch[:,:], vmax=0.99, vmin=0.01, interpolation=interp, cmap=\"Greys\")\n",
        "\n",
        "\t\t\tcnn.delete_dataset(\"TEST\", silent=1)\n",
        "\t\t\tcnn.create_dataset(\"TEST\", nb_test, input_images, targets_diff, silent=1)\n",
        "\n",
        "\t\t#Uncomment to save network prediction\n",
        "\t\tcnn.forward(saving=2, no_error=1, silent=1)\n",
        "\t\tcnn.delete_dataset(\"TEST\", silent=1)\n",
        "\n",
        "\t\tfwd_dat = np.fromfile(file_name, dtype=\"float32\")\n",
        "\t\tfwd_dat = np.reshape(fwd_dat,(nb_test,image_size*image_size))\n",
        "\n",
        "\t\tnew_images = (input_images[:,0:im_s] - np.sqrt(1.0-p_alpha_t[0])*fwd_dat[:,:])/(np.sqrt(p_alpha_t[0]))\n",
        "\n",
        "\t\tpatch[:,:] = np.clip(np.reshape(new_images[0][:],(image_size,image_size)),0.0,1.0)\n",
        "\t\taxs[3][4].imshow(patch[:,:], vmax=0.99, vmin=0.01, interpolation=interp, cmap=\"Greys\")\n",
        "\n",
        "\t\tplt.savefig(\"fig/one_diff_fwd_%04d.png\"%(i+1), dpi=200)\n",
        "\t\tplt.close()\n",
        "\n",
        "\t\t#For display of mulitple final generations for multiple inputs\n",
        "\t\tfig, axs = plt.subplots(4, 5, figsize=(10,8), dpi=200, constrained_layout=True)\n",
        "\n",
        "\t\tfor j in range(0,20):\n",
        "\t\t\taxs[int(j/5)][int(j%5)].axis('off')\n",
        "\n",
        "\t\tfig.suptitle(\"Epoch %d\"%(i+1))\n",
        "\n",
        "\t\tfor j in range(0,20):\n",
        "\t\t\tpatch[:,:] = np.clip(np.reshape(new_images[j][:],(image_size,image_size)),0.0,1.0)\n",
        "\t\t\taxs[int(j/5)][int(j%5)].imshow(patch[:,:], vmax=0.99, vmin=0.01, interpolation=interp, cmap=\"binary\")\n",
        "\n",
        "\t\tplt.savefig(\"fig/all_diff_fwd_%04d.png\"%(i+1), dpi=200)\n",
        "\t\tplt.close()\n",
        "\n",
        "\n",
        "EOF\n"
      ],
      "metadata": {
        "id": "4ca52h-091tG"
      },
      "execution_count": null,
      "outputs": []
    },
    {
      "cell_type": "code",
      "source": [
        "%cd /content/fig/\n",
        "from IPython.display import Image\n",
        "\n",
        "epoch = 50\n",
        "\n",
        "Image(\"all_diff_fwd_%04d.png\"%(epoch), width=720)\n"
      ],
      "metadata": {
        "id": "V0ICULbuRJ5a"
      },
      "execution_count": null,
      "outputs": []
    },
    {
      "cell_type": "code",
      "source": [
        "%cd /content/fig/\n",
        "from IPython.display import Image\n",
        "\n",
        "epoch = 50\n",
        "\n",
        "Image(\"one_diff_fwd_%04d.png\"%(epoch), width=720)"
      ],
      "metadata": {
        "id": "uNiMK76HSu8c"
      },
      "execution_count": null,
      "outputs": []
    }
  ]
}
